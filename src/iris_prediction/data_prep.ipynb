{
 "cells": [
  {
   "cell_type": "code",
   "execution_count": 1,
   "id": "c80538d3",
   "metadata": {},
   "outputs": [],
   "source": [
    "import polars as pl\n",
    "from constants import PROJECT_DATA"
   ]
  },
  {
   "cell_type": "code",
   "execution_count": 2,
   "id": "47cde459",
   "metadata": {},
   "outputs": [],
   "source": [
    "iris_df = pl.read_csv(PROJECT_DATA)"
   ]
  },
  {
   "cell_type": "code",
   "execution_count": 7,
   "id": "21cbe76d",
   "metadata": {},
   "outputs": [],
   "source": [
    "iris_df_combined = (\n",
    "    iris_df.with_columns(\n",
    "        (pl.col('sepal_length') + pl.col('sepal_width')).alias('sepal_sum'),\n",
    "        (pl.col('petal_length') + pl.col('petal_width')).alias('petal_sum'),\n",
    "    )\n",
    "    .with_columns(\n",
    "        (pl.col('sepal_sum') + pl.col('petal_sum')).alias('total_sum')\n",
    "    )\n",
    ")"
   ]
  }
 ],
 "metadata": {
  "kernelspec": {
   "display_name": "iris-prediction",
   "language": "python",
   "name": "python3"
  },
  "language_info": {
   "codemirror_mode": {
    "name": "ipython",
    "version": 3
   },
   "file_extension": ".py",
   "mimetype": "text/x-python",
   "name": "python",
   "nbconvert_exporter": "python",
   "pygments_lexer": "ipython3",
   "version": "3.12.9"
  }
 },
 "nbformat": 4,
 "nbformat_minor": 5
}
