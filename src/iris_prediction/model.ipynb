{
 "cells": [
  {
   "cell_type": "code",
   "execution_count": null,
   "id": "c80538d3",
   "metadata": {},
   "outputs": [],
   "source": [
    "import polars as pl\n",
    "import sklearn as sk\n",
    "from sklearn.model_selection import train_test_split, GridSearchCV\n",
    "from sklearn.ensemble import GradientBoostingClassifier, HistGradientBoostingClassifier, RandomForestClassifier\n",
    "from sklearn.svm import SVC, LinearSVC\n",
    "from sklearn.linear_model import LinearRegression\n",
    "from setup.constants import PROJECT_DATA\n"
   ]
  },
  {
   "cell_type": "code",
   "execution_count": 40,
   "id": "47cde459",
   "metadata": {},
   "outputs": [],
   "source": [
    "iris_df = pl.read_csv(PROJECT_DATA)"
   ]
  },
  {
   "cell_type": "code",
   "execution_count": 41,
   "id": "21cbe76d",
   "metadata": {},
   "outputs": [],
   "source": [
    "iris_df_combined = (\n",
    "    iris_df.with_columns(\n",
    "        (pl.col('sepal_length') + pl.col('sepal_width')).alias('sepal_sum'),\n",
    "        (pl.col('petal_length') + pl.col('petal_width')).alias('petal_sum'),\n",
    "    )\n",
    "    .with_columns(\n",
    "        (pl.col('sepal_sum') + pl.col('petal_sum')).alias('total_sum')\n",
    "    )\n",
    ")"
   ]
  },
  {
   "cell_type": "code",
   "execution_count": null,
   "id": "ce4f1856",
   "metadata": {},
   "outputs": [
    {
     "name": "stdout",
     "output_type": "stream",
     "text": [
      "shape: (150, 7)\n",
      "┌──────────────┬─────────────┬──────────────┬─────────────┬───────────┬───────────┬───────────┐\n",
      "│ sepal_length ┆ sepal_width ┆ petal_length ┆ petal_width ┆ sepal_sum ┆ petal_sum ┆ total_sum │\n",
      "│ ---          ┆ ---         ┆ ---          ┆ ---         ┆ ---       ┆ ---       ┆ ---       │\n",
      "│ f64          ┆ f64         ┆ f64          ┆ f64         ┆ f64       ┆ f64       ┆ f64       │\n",
      "╞══════════════╪═════════════╪══════════════╪═════════════╪═══════════╪═══════════╪═══════════╡\n",
      "│ 5.1          ┆ 3.5         ┆ 1.4          ┆ 0.2         ┆ 8.6       ┆ 1.6       ┆ 10.2      │\n",
      "│ 4.9          ┆ 3.0         ┆ 1.4          ┆ 0.2         ┆ 7.9       ┆ 1.6       ┆ 9.5       │\n",
      "│ 4.7          ┆ 3.2         ┆ 1.3          ┆ 0.2         ┆ 7.9       ┆ 1.5       ┆ 9.4       │\n",
      "│ 4.6          ┆ 3.1         ┆ 1.5          ┆ 0.2         ┆ 7.7       ┆ 1.7       ┆ 9.4       │\n",
      "│ 5.0          ┆ 3.6         ┆ 1.4          ┆ 0.2         ┆ 8.6       ┆ 1.6       ┆ 10.2      │\n",
      "│ …            ┆ …           ┆ …            ┆ …           ┆ …         ┆ …         ┆ …         │\n",
      "│ 6.7          ┆ 3.0         ┆ 5.2          ┆ 2.3         ┆ 9.7       ┆ 7.5       ┆ 17.2      │\n",
      "│ 6.3          ┆ 2.5         ┆ 5.0          ┆ 1.9         ┆ 8.8       ┆ 6.9       ┆ 15.7      │\n",
      "│ 6.5          ┆ 3.0         ┆ 5.2          ┆ 2.0         ┆ 9.5       ┆ 7.2       ┆ 16.7      │\n",
      "│ 6.2          ┆ 3.4         ┆ 5.4          ┆ 2.3         ┆ 9.6       ┆ 7.7       ┆ 17.3      │\n",
      "│ 5.9          ┆ 3.0         ┆ 5.1          ┆ 1.8         ┆ 8.9       ┆ 6.9       ┆ 15.8      │\n",
      "└──────────────┴─────────────┴──────────────┴─────────────┴───────────┴───────────┴───────────┘\n",
      "shape: (150,)\n",
      "Series: 'class' [str]\n",
      "[\n",
      "\t\"Iris-setosa\"\n",
      "\t\"Iris-setosa\"\n",
      "\t\"Iris-setosa\"\n",
      "\t\"Iris-setosa\"\n",
      "\t\"Iris-setosa\"\n",
      "\t…\n",
      "\t\"Iris-virginica\"\n",
      "\t\"Iris-virginica\"\n",
      "\t\"Iris-virginica\"\n",
      "\t\"Iris-virginica\"\n",
      "\t\"Iris-virginica\"\n",
      "]\n",
      "150 150\n"
     ]
    }
   ],
   "source": [
    "X = iris_df_combined.drop('class')\n",
    "print(X)\n",
    "y = iris_df_combined.get_column('class')\n",
    "print(y)"
   ]
  },
  {
   "cell_type": "code",
   "execution_count": 42,
   "id": "e2e644e2",
   "metadata": {},
   "outputs": [
    {
     "name": "stdout",
     "output_type": "stream",
     "text": [
      "120 120 15 15 15 15\n",
      "shape: (3,)\n",
      "Series: 'class' [u32]\n",
      "[\n",
      "\t40\n",
      "\t40\n",
      "\t40\n",
      "] shape: (3,)\n",
      "Series: 'class' [u32]\n",
      "[\n",
      "\t5\n",
      "\t5\n",
      "\t5\n",
      "] shape: (3,)\n",
      "Series: 'class' [u32]\n",
      "[\n",
      "\t5\n",
      "\t5\n",
      "\t5\n",
      "]\n"
     ]
    }
   ],
   "source": [
    "X_train, X_test, y_train, y_test = train_test_split(X, y, test_size=0.2, stratify=y)\n",
    "X_val, X_test, y_val, y_test = train_test_split(X_test, y_test, test_size=0.5, stratify=y_test)\n",
    "print(len(X_train), len(y_train), len(X_val), len(y_val), len(X_test), len(y_test))\n",
    "print(y_train.unique_counts(), y_val.unique_counts(), y_test.unique_counts())"
   ]
  },
  {
   "cell_type": "code",
   "execution_count": null,
   "id": "153b1bad",
   "metadata": {},
   "outputs": [],
   "source": []
  }
 ],
 "metadata": {
  "kernelspec": {
   "display_name": ".venv",
   "language": "python",
   "name": "python3"
  },
  "language_info": {
   "codemirror_mode": {
    "name": "ipython",
    "version": 3
   },
   "file_extension": ".py",
   "mimetype": "text/x-python",
   "name": "python",
   "nbconvert_exporter": "python",
   "pygments_lexer": "ipython3",
   "version": "3.12.9"
  }
 },
 "nbformat": 4,
 "nbformat_minor": 5
}
